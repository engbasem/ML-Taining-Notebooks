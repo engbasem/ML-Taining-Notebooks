{
  "nbformat": 4,
  "nbformat_minor": 0,
  "metadata": {
    "colab": {
      "name": "Dimensionality_reduction_PCA_01.ipynb",
      "provenance": [],
      "authorship_tag": "ABX9TyO/vqtKYWvgzV0xJWtDv5UO",
      "include_colab_link": true
    },
    "kernelspec": {
      "name": "python3",
      "display_name": "Python 3"
    },
    "language_info": {
      "name": "python"
    }
  },
  "cells": [
    {
      "cell_type": "markdown",
      "metadata": {
        "id": "view-in-github",
        "colab_type": "text"
      },
      "source": [
        "<a href=\"https://colab.research.google.com/github/engbasem/ML-Taining-Notebooks/blob/main/Dimensionality_reduction_PCA_01.ipynb\" target=\"_parent\"><img src=\"https://colab.research.google.com/assets/colab-badge.svg\" alt=\"Open In Colab\"/></a>"
      ]
    },
    {
      "cell_type": "markdown",
      "source": [
        "**Dimensionality Reduction**\n",
        "\n",
        "Dimensionality reduction refers to techniques that reduce the number of input variables in a dataset.\n",
        "\n",
        "More input features often make a predictive modeling task more challenging to model, more generally referred to as the curse of dimensionality.\n",
        "\n",
        "Perhaps the most popular technique for dimensionality reduction in machine learning is **Principal Component Analysis**(PCA). \n",
        "\n",
        "PCA is a technique that comes from the field of linear algebra and can be used as a data preparation technique **to create a projection of a dataset** prior to fitting a model.\n",
        "\n",
        "The resulting dataset, the projection, can then be used as input to train a machine learning model\n",
        ".\n",
        "\n",
        "[1] Source:  jason@machinelearningmastery.com\n"
      ],
      "metadata": {
        "id": "D7WsMmOZYm3o"
      }
    },
    {
      "cell_type": "markdown",
      "source": [
        "\n",
        "The **scikit-learn library** provides the **PCA class** that can be fit on a dataset and used to transform a training dataset and any additional datasets in the future.\n",
        "\n",
        "The example below creates a synthetic binary classification dataset with 10 input variables then uses PCA to reduce the dimensionality of the dataset to the three most important components."
      ],
      "metadata": {
        "id": "H6ANEWwDZXUU"
      }
    },
    {
      "cell_type": "code",
      "source": [
        "# example of pca for dimensionality reduction\n",
        "from sklearn.datasets import make_classification\n",
        "from sklearn.decomposition import PCA\n"
      ],
      "metadata": {
        "id": "ek6P-w2qZVtr"
      },
      "execution_count": 2,
      "outputs": []
    },
    {
      "cell_type": "code",
      "source": [
        "# define dataset with 10 features\n",
        "X, y = make_classification(n_samples=1000, n_features=10, n_informative=3, n_redundant=7, random_state=1)\n",
        "# summarize data before the transform\n",
        "print(X[:3, :])\n"
      ],
      "metadata": {
        "colab": {
          "base_uri": "https://localhost:8080/"
        },
        "id": "YPdq0q_HZxr6",
        "outputId": "3eb201ea-9b89-4763-cf52-df40776e6ea0"
      },
      "execution_count": 3,
      "outputs": [
        {
          "output_type": "stream",
          "name": "stdout",
          "text": [
            "[[-0.53448246  0.93837451  0.38969914  0.0926655   1.70876508  1.14351305\n",
            "  -1.47034214  0.11857673 -2.72241741  0.2953565 ]\n",
            " [-2.42280473 -1.02658758 -2.34792156 -0.82422408  0.59933419 -2.44832253\n",
            "   0.39750207  2.0265065   1.83374105  0.72430365]\n",
            " [-1.83391794 -1.1946668  -0.73806871  1.50947233  1.78047734  0.58779205\n",
            "  -2.78506977 -0.04163788 -1.25227833  0.99373587]]\n"
          ]
        }
      ]
    },
    {
      "cell_type": "code",
      "execution_count": 4,
      "metadata": {
        "colab": {
          "base_uri": "https://localhost:8080/"
        },
        "id": "DQV0U24TXmcM",
        "outputId": "fa40786b-a782-492f-e0fe-85b8c5aff01e"
      },
      "outputs": [
        {
          "output_type": "stream",
          "name": "stdout",
          "text": [
            "[[-1.64710578 -2.11683302  1.98256096]\n",
            " [ 0.92840209  4.8294997   0.22727043]\n",
            " [-3.83677757  0.32300714  0.11512801]]\n"
          ]
        }
      ],
      "source": [
        "# define the transform\n",
        "trans = PCA(n_components=3)\n",
        "# transform the data\n",
        "X_dim = trans.fit_transform(X)\n",
        "# summarize data after the transform\n",
        "print(X_dim[:3, :])"
      ]
    }
  ]
}