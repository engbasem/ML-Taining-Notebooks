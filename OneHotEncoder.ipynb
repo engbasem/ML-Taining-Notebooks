{
  "nbformat": 4,
  "nbformat_minor": 0,
  "metadata": {
    "colab": {
      "name": "OneHotEncoder.ipynb",
      "provenance": [],
      "authorship_tag": "ABX9TyOjDwTJ/WvZMwfHmmQwmW4g",
      "include_colab_link": true
    },
    "kernelspec": {
      "name": "python3",
      "display_name": "Python 3"
    },
    "language_info": {
      "name": "python"
    }
  },
  "cells": [
    {
      "cell_type": "markdown",
      "metadata": {
        "id": "view-in-github",
        "colab_type": "text"
      },
      "source": [
        "<a href=\"https://colab.research.google.com/github/engbasem/ML-Taining-Notebooks/blob/main/OneHotEncoder.ipynb\" target=\"_parent\"><img src=\"https://colab.research.google.com/assets/colab-badge.svg\" alt=\"Open In Colab\"/></a>"
      ]
    },
    {
      "cell_type": "markdown",
      "source": [
        "How to encode categorical input variables as numbers?\n",
        "\n",
        "Credit goes to **machinelearningmastery.com**"
      ],
      "metadata": {
        "id": "j-bCbP-9fZsP"
      }
    },
    {
      "cell_type": "markdown",
      "source": [
        "Machine learning models require all input and output variables to be numeric. This means that if your data contains categorical data, you must encode it to numbers before you can fit and evaluate a model.\n",
        "\n",
        "One of the most popular techniques for transforming categorical variables into numbers is the one hot encoding."
      ],
      "metadata": {
        "id": "hI6BPcJlfyug"
      }
    },
    {
      "cell_type": "code",
      "execution_count": 1,
      "metadata": {
        "id": "5_9ft512fQdv"
      },
      "outputs": [],
      "source": [
        "# one hot encode the breast cancer dataset\n",
        "from pandas import read_csv\n",
        "from sklearn.preprocessing import OneHotEncoder\n",
        "\n",
        "# define the location of the dataset\n",
        "url = \"https://raw.githubusercontent.com/jbrownlee/Datasets/master/breast-cancer.csv\"\n",
        "\n",
        "# load the dataset\n",
        "dataset = read_csv(url, header=None)"
      ]
    },
    {
      "cell_type": "code",
      "source": [
        "# retrieve the array of data\n",
        "data = dataset.values\n"
      ],
      "metadata": {
        "id": "Pe-Ryy6JgFpC"
      },
      "execution_count": 4,
      "outputs": []
    },
    {
      "cell_type": "code",
      "source": [
        "# separate into input and output columns\n",
        "X = data[:, :-1].astype(str)\n",
        "y = data[:, -1].astype(str)\n",
        "\n",
        "# summarize the raw data\n",
        "print(X[:3, :])"
      ],
      "metadata": {
        "colab": {
          "base_uri": "https://localhost:8080/"
        },
        "id": "9bVVzptugbFE",
        "outputId": "35b15ca9-ec0d-4811-c607-476d0f5c02ea"
      },
      "execution_count": 5,
      "outputs": [
        {
          "output_type": "stream",
          "name": "stdout",
          "text": [
            "[[\"'40-49'\" \"'premeno'\" \"'15-19'\" \"'0-2'\" \"'yes'\" \"'3'\" \"'right'\"\n",
            "  \"'left_up'\" \"'no'\"]\n",
            " [\"'50-59'\" \"'ge40'\" \"'15-19'\" \"'0-2'\" \"'no'\" \"'1'\" \"'right'\" \"'central'\"\n",
            "  \"'no'\"]\n",
            " [\"'50-59'\" \"'ge40'\" \"'35-39'\" \"'0-2'\" \"'no'\" \"'2'\" \"'left'\" \"'left_low'\"\n",
            "  \"'no'\"]]\n"
          ]
        }
      ]
    },
    {
      "cell_type": "code",
      "source": [
        "# define the one hot encoding transform\n",
        "encoder = OneHotEncoder(sparse=False)\n",
        "\n",
        "# fit and apply the transform to the input data\n",
        "X_oe = encoder.fit_transform(X)\n",
        "\n",
        "# summarize the transformed data\n",
        "print(X_oe[:3, :])"
      ],
      "metadata": {
        "colab": {
          "base_uri": "https://localhost:8080/"
        },
        "id": "Y-y94iasgJWd",
        "outputId": "0de9eca2-2747-47fa-d704-11d2773a1c59"
      },
      "execution_count": 6,
      "outputs": [
        {
          "output_type": "stream",
          "name": "stdout",
          "text": [
            "[[0. 0. 1. 0. 0. 0. 0. 0. 1. 0. 0. 1. 0. 0. 0. 0. 0. 0. 0. 0. 1. 0. 0. 0.\n",
            "  0. 0. 0. 0. 1. 0. 0. 0. 1. 0. 1. 0. 0. 1. 0. 0. 0. 1. 0.]\n",
            " [0. 0. 0. 1. 0. 0. 1. 0. 0. 0. 0. 1. 0. 0. 0. 0. 0. 0. 0. 0. 1. 0. 0. 0.\n",
            "  0. 0. 0. 1. 0. 0. 1. 0. 0. 0. 1. 1. 0. 0. 0. 0. 0. 1. 0.]\n",
            " [0. 0. 0. 1. 0. 0. 1. 0. 0. 0. 0. 0. 0. 0. 0. 1. 0. 0. 0. 0. 1. 0. 0. 0.\n",
            "  0. 0. 0. 1. 0. 0. 0. 1. 0. 1. 0. 0. 1. 0. 0. 0. 0. 1. 0.]]\n"
          ]
        }
      ]
    }
  ]
}